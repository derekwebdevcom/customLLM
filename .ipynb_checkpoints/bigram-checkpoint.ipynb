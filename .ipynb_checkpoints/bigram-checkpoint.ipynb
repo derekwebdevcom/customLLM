{
 "cells": [
  {
   "cell_type": "code",
   "execution_count": null,
   "id": "5acd4703",
   "metadata": {
    "vscode": {
     "languageId": "plaintext"
    }
   },
   "outputs": [],
   "source": [
    "a = 3"
   ]
  }
 ],
 "metadata": {
  "language_info": {
   "name": "python"
  }
 },
 "nbformat": 4,
 "nbformat_minor": 5
}
